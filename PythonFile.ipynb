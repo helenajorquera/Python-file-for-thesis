{
 "cells": [
  {
   "cell_type": "code",
   "execution_count": 130,
   "id": "d56f98a8-0104-45b2-8181-638c999f4ff7",
   "metadata": {},
   "outputs": [
    {
     "name": "stdout",
     "output_type": "stream",
     "text": [
      "Defaulting to user installation because normal site-packages is not writeable\n",
      "Requirement already satisfied: numpy in /home/hjriera/.local/lib/python3.10/site-packages (1.26.4)\n"
     ]
    }
   ],
   "source": [
    "!pip install numpy"
   ]
  },
  {
   "cell_type": "code",
   "execution_count": 131,
   "id": "550f2050-c351-482c-9167-0ef2662dbf50",
   "metadata": {},
   "outputs": [],
   "source": [
    "import itertools\n",
    "import numpy as np\n",
    "import itertools"
   ]
  },
  {
   "cell_type": "markdown",
   "id": "03844a2d-b472-48e9-ac95-7fffc02b1b3c",
   "metadata": {},
   "source": [
    "## Essentials"
   ]
  },
  {
   "cell_type": "markdown",
   "id": "bd4c8f1b-5588-408a-ad3b-5acd903b90b1",
   "metadata": {},
   "source": [
    "### Generating $F_q^k$ for a prime $q$.\n"
   ]
  },
  {
   "cell_type": "code",
   "execution_count": 132,
   "id": "f2c84e99-2d12-4a63-9bc7-dbe36c22a7d3",
   "metadata": {},
   "outputs": [
    {
     "name": "stdout",
     "output_type": "stream",
     "text": [
      "[[1, 0, 0, 0], [0, 1, 0, 0], [0, 0, 1, 0], [0, 0, 0, 1], [0, 0, 0, 0], [0, 0, 0, 2], [0, 0, 1, 1], [0, 0, 1, 2], [0, 0, 2, 0], [0, 0, 2, 1], [0, 0, 2, 2], [0, 1, 0, 1], [0, 1, 0, 2], [0, 1, 1, 0], [0, 1, 1, 1], [0, 1, 1, 2], [0, 1, 2, 0], [0, 1, 2, 1], [0, 1, 2, 2], [0, 2, 0, 0], [0, 2, 0, 1], [0, 2, 0, 2], [0, 2, 1, 0], [0, 2, 1, 1], [0, 2, 1, 2], [0, 2, 2, 0], [0, 2, 2, 1], [0, 2, 2, 2], [1, 0, 0, 1], [1, 0, 0, 2], [1, 0, 1, 0], [1, 0, 1, 1], [1, 0, 1, 2], [1, 0, 2, 0], [1, 0, 2, 1], [1, 0, 2, 2], [1, 1, 0, 0], [1, 1, 0, 1], [1, 1, 0, 2], [1, 1, 1, 0], [1, 1, 1, 1], [1, 1, 1, 2], [1, 1, 2, 0], [1, 1, 2, 1], [1, 1, 2, 2], [1, 2, 0, 0], [1, 2, 0, 1], [1, 2, 0, 2], [1, 2, 1, 0], [1, 2, 1, 1], [1, 2, 1, 2], [1, 2, 2, 0], [1, 2, 2, 1], [1, 2, 2, 2], [2, 0, 0, 0], [2, 0, 0, 1], [2, 0, 0, 2], [2, 0, 1, 0], [2, 0, 1, 1], [2, 0, 1, 2], [2, 0, 2, 0], [2, 0, 2, 1], [2, 0, 2, 2], [2, 1, 0, 0], [2, 1, 0, 1], [2, 1, 0, 2], [2, 1, 1, 0], [2, 1, 1, 1], [2, 1, 1, 2], [2, 1, 2, 0], [2, 1, 2, 1], [2, 1, 2, 2], [2, 2, 0, 0], [2, 2, 0, 1], [2, 2, 0, 2], [2, 2, 1, 0], [2, 2, 1, 1], [2, 2, 1, 2], [2, 2, 2, 0], [2, 2, 2, 1], [2, 2, 2, 2]]\n"
     ]
    }
   ],
   "source": [
    "def F(q,k):\n",
    "    Fq=list(range(q))  # field F_q as a list [0, 1, 2, ..., q-1]\n",
    "    a=list(itertools.product(*[Fq]*k))  #[Fq]*k is just k copies of Fq, * unpacks and itertools.product returns cartesian product \n",
    "    a2=[v for v in a if v.count(1)!=1 or v.count(0)!=k-1] #removes identity vectors\n",
    "    id=[[0]*i+[1]+[0]*(k-i-1) for i in range(k)] #generates identity vectors\n",
    "    ordered=id+a2 #adds identity at the beginning\n",
    "    \n",
    "    return [[e for e in v] for v in ordered] #writes square brackets\n",
    "\n",
    "print(F(3, 4))"
   ]
  },
  {
   "cell_type": "markdown",
   "id": "d55a9c25-a55c-4757-9036-3cf59d0f76a2",
   "metadata": {},
   "source": [
    "### Generating Im$(G)$"
   ]
  },
  {
   "cell_type": "code",
   "execution_count": 133,
   "id": "76664423-36e5-4d59-80d5-f661b4142ba0",
   "metadata": {},
   "outputs": [],
   "source": [
    "def image(M,q):\n",
    "    K=[]\n",
    "   # q=np.amax(M)+1 #could be that the matrix is over Fq but only has entries with values less than q-1 .... should change this\n",
    "    k=len(M)\n",
    "    for v in F(q,k):\n",
    "        K.append(list(np.dot(v,M) %q)) #convert to a list so that \"array\" goes away\n",
    "    return K"
   ]
  },
  {
   "cell_type": "code",
   "execution_count": 134,
   "id": "aede8da6-f353-49aa-b8d6-764627cea164",
   "metadata": {},
   "outputs": [
    {
     "data": {
      "text/plain": [
       "[[1, 0, 0, 1, 0],\n",
       " [0, 1, 0, 0, 1],\n",
       " [0, 0, 1, 0, 0],\n",
       " [0, 0, 0, 0, 0],\n",
       " [0, 1, 1, 0, 1],\n",
       " [1, 0, 1, 1, 0],\n",
       " [1, 1, 0, 1, 1],\n",
       " [1, 1, 1, 1, 1]]"
      ]
     },
     "execution_count": 134,
     "metadata": {},
     "output_type": "execute_result"
    }
   ],
   "source": [
    "G=[[1, 0, 0, 1, 0],\n",
    "        [0, 1, 0, 0, 1],\n",
    "        [0, 0, 1, 0, 0]]\n",
    "image(G,2)"
   ]
  },
  {
   "cell_type": "markdown",
   "id": "26c805ae-144c-4eea-bab3-72281ccf2ca5",
   "metadata": {},
   "source": [
    "### Generating $\\ker(H)$"
   ]
  },
  {
   "cell_type": "code",
   "execution_count": 135,
   "id": "28ead490-7a24-471e-b5f5-991e36c7b46f",
   "metadata": {},
   "outputs": [],
   "source": [
    "def kernel(M,q):\n",
    "    n=len(M)  \n",
    "    k=len(M[0])\n",
    "    K=[]\n",
    "    for v in F(q,n):\n",
    "        if np.array_equal(np.dot(v,M) %q, [0]*k):\n",
    "            K.append(v)\n",
    "    return K\n"
   ]
  },
  {
   "cell_type": "markdown",
   "id": "f50e57b8-d292-4a80-af27-0236ee99ba15",
   "metadata": {},
   "source": [
    "## Hamming distance"
   ]
  },
  {
   "cell_type": "markdown",
   "id": "0e4905ae-b915-469a-a005-06f88ea90ab7",
   "metadata": {},
   "source": [
    "### Computing Hamming distance between two vectors"
   ]
  },
  {
   "cell_type": "code",
   "execution_count": 136,
   "id": "d34501ad-b46e-4c98-971e-beb2836ca583",
   "metadata": {},
   "outputs": [
    {
     "data": {
      "text/plain": [
       "1"
      ]
     },
     "execution_count": 136,
     "metadata": {},
     "output_type": "execute_result"
    }
   ],
   "source": [
    "def hdist(v1,v2,q):\n",
    "    l=0\n",
    "    for i in range(len(v1)):\n",
    "        if not v1[i] %q==v2[i] % q:\n",
    "            l+=1\n",
    "    return l\n",
    "\n",
    "hdist([0,2,1],[0,1,1],3)"
   ]
  },
  {
   "cell_type": "markdown",
   "id": "93e301ea-730d-4c34-a6b0-dda9a7b2768e",
   "metadata": {},
   "source": [
    "### Computing the minimum distance of a code C"
   ]
  },
  {
   "cell_type": "code",
   "execution_count": 137,
   "id": "fcb81bd0-01c3-425b-8d40-4456e323576a",
   "metadata": {},
   "outputs": [
    {
     "data": {
      "text/plain": [
       "2"
      ]
     },
     "execution_count": 137,
     "metadata": {},
     "output_type": "execute_result"
    }
   ],
   "source": [
    "def mindist(C, q):\n",
    "    k = len(C[0])\n",
    "    D = [hdist(v,[0]*k, q) for v in C if v!=[0]*k]\n",
    "    return min(D)\n",
    "\n",
    "C=[[0,0,0],[1,0,1],[0,1,1],[1,1,0]]\n",
    "mindist(C, 2)"
   ]
  },
  {
   "cell_type": "code",
   "execution_count": 138,
   "id": "1f4c5219-5699-4d3c-85c2-4484b1587d4f",
   "metadata": {},
   "outputs": [
    {
     "data": {
      "text/plain": [
       "1"
      ]
     },
     "execution_count": 138,
     "metadata": {},
     "output_type": "execute_result"
    }
   ],
   "source": [
    "C=[[1, 0, 0, 1, 0],\n",
    "        [0, 1, 0, 0, 1],\n",
    "        [0, 0, 1, 0, 0]]\n",
    "mindist(C,2)"
   ]
  },
  {
   "cell_type": "markdown",
   "id": "e385fd93-e539-4678-baa9-68d4eec93416",
   "metadata": {},
   "source": [
    "### Computing the maximum distance from any element in $F_q^n$ to some codeword."
   ]
  },
  {
   "cell_type": "code",
   "execution_count": 139,
   "id": "7d0a247b-6763-4ed6-be87-52a8f6676f45",
   "metadata": {},
   "outputs": [
    {
     "data": {
      "text/plain": [
       "3"
      ]
     },
     "execution_count": 139,
     "metadata": {},
     "output_type": "execute_result"
    }
   ],
   "source": [
    "def maxdist(C,q):\n",
    "    k=len(C[0])\n",
    "    A=F(q,k)\n",
    "    D=[min([hdist(v,c,q) for c in C]) for v in A]\n",
    "    return max(D)\n",
    "\n",
    "maxdist(C,2)"
   ]
  },
  {
   "cell_type": "code",
   "execution_count": 140,
   "id": "5d022a1e-cc58-47f6-acea-c048f070da37",
   "metadata": {},
   "outputs": [
    {
     "data": {
      "text/plain": [
       "1"
      ]
     },
     "execution_count": 140,
     "metadata": {},
     "output_type": "execute_result"
    }
   ],
   "source": [
    "maxdist(image([[1, 0, 1, 1],\n",
    "               [0, 1, 1, 2]],3),3)"
   ]
  },
  {
   "cell_type": "code",
   "execution_count": 141,
   "id": "0623a3a7-c387-425f-b29d-43d37aebac7e",
   "metadata": {},
   "outputs": [
    {
     "data": {
      "text/plain": [
       "3"
      ]
     },
     "execution_count": 141,
     "metadata": {},
     "output_type": "execute_result"
    }
   ],
   "source": [
    "mindist(image([[1, 0, 1, 1],[0, 1, 1, 2]],3),3)"
   ]
  },
  {
   "cell_type": "markdown",
   "id": "adcd1582-8b30-48a5-ab0c-e21e8b05ff25",
   "metadata": {},
   "source": [
    "## Hamming codes"
   ]
  },
  {
   "cell_type": "markdown",
   "id": "3424f077-e2e1-41ac-b7c4-835709a30b28",
   "metadata": {},
   "source": [
    "### Checking if two vectors are scalar multiples"
   ]
  },
  {
   "cell_type": "code",
   "execution_count": 142,
   "id": "c5792597-ad46-4fbb-9592-2186ed2d4e02",
   "metadata": {},
   "outputs": [
    {
     "data": {
      "text/plain": [
       "True"
      ]
     },
     "execution_count": 142,
     "metadata": {},
     "output_type": "execute_result"
    }
   ],
   "source": [
    "def scalarmult(v1,v2,q):\n",
    "    for a in range(1,q):\n",
    "        if ([a*x % q for x in v1]) == [x %q for x in v2]: \n",
    "            return True\n",
    "    return False\n",
    "\n",
    "scalarmult([2,1],[1,2],3)"
   ]
  },
  {
   "cell_type": "markdown",
   "id": "5cba0f58-3b27-4604-a270-1de374de2bc1",
   "metadata": {},
   "source": [
    "### Generating parity check matrices for Hamming codes"
   ]
  },
  {
   "cell_type": "code",
   "execution_count": 143,
   "id": "e613d87a-2506-474a-a715-e81c76036865",
   "metadata": {},
   "outputs": [
    {
     "data": {
      "text/plain": [
       "array([[1, 0, 0, 0],\n",
       "       [0, 1, 0, 0],\n",
       "       [0, 0, 1, 0],\n",
       "       [0, 0, 0, 1],\n",
       "       [0, 0, 1, 1],\n",
       "       [0, 0, 1, 2],\n",
       "       [0, 1, 0, 1],\n",
       "       [0, 1, 0, 2],\n",
       "       [0, 1, 1, 0],\n",
       "       [0, 1, 1, 1],\n",
       "       [0, 1, 1, 2],\n",
       "       [0, 1, 2, 0],\n",
       "       [0, 1, 2, 1],\n",
       "       [0, 1, 2, 2],\n",
       "       [1, 0, 0, 1],\n",
       "       [1, 0, 0, 2],\n",
       "       [1, 0, 1, 0],\n",
       "       [1, 0, 1, 1],\n",
       "       [1, 0, 1, 2],\n",
       "       [1, 0, 2, 0],\n",
       "       [1, 0, 2, 1],\n",
       "       [1, 0, 2, 2],\n",
       "       [1, 1, 0, 0],\n",
       "       [1, 1, 0, 1],\n",
       "       [1, 1, 0, 2],\n",
       "       [1, 1, 1, 0],\n",
       "       [1, 1, 1, 1],\n",
       "       [1, 1, 1, 2],\n",
       "       [1, 1, 2, 0],\n",
       "       [1, 1, 2, 1],\n",
       "       [1, 1, 2, 2],\n",
       "       [1, 2, 0, 0],\n",
       "       [1, 2, 0, 1],\n",
       "       [1, 2, 0, 2],\n",
       "       [1, 2, 1, 0],\n",
       "       [1, 2, 1, 1],\n",
       "       [1, 2, 1, 2],\n",
       "       [1, 2, 2, 0],\n",
       "       [1, 2, 2, 1],\n",
       "       [1, 2, 2, 2]])"
      ]
     },
     "execution_count": 143,
     "metadata": {},
     "output_type": "execute_result"
    }
   ],
   "source": [
    "def hammingvectors(q,k):\n",
    "    H = [(0,)*k]\n",
    "    for v in F(q,k):\n",
    "        for w in H:\n",
    "            if scalarmult(v,w,q):\n",
    "                break\n",
    "        else:\n",
    "            H.append(v)\n",
    "    H.remove((0,)*k)\n",
    "    return np.array(H) #np. turns list of vectors into a matrix\n",
    "hammingvectors(3,4)"
   ]
  },
  {
   "cell_type": "markdown",
   "id": "7185778a-0b3a-493b-a7af-5d01090cbd74",
   "metadata": {},
   "source": [
    "### Showing that this hamming code is perfect."
   ]
  },
  {
   "cell_type": "code",
   "execution_count": 144,
   "id": "1a739039-b251-487f-90bc-e1affbdc4d45",
   "metadata": {},
   "outputs": [],
   "source": [
    "C=kernel(hammingvectors(2,3),2)"
   ]
  },
  {
   "cell_type": "code",
   "execution_count": 145,
   "id": "e4722ba3-b467-44d3-b039-e1bcf68086fa",
   "metadata": {},
   "outputs": [
    {
     "data": {
      "text/plain": [
       "3"
      ]
     },
     "execution_count": 145,
     "metadata": {},
     "output_type": "execute_result"
    }
   ],
   "source": [
    "mindist(C,2)"
   ]
  },
  {
   "cell_type": "code",
   "execution_count": 146,
   "id": "774df6a0-cc21-4531-bedb-659bcff64873",
   "metadata": {},
   "outputs": [
    {
     "data": {
      "text/plain": [
       "1"
      ]
     },
     "execution_count": 146,
     "metadata": {},
     "output_type": "execute_result"
    }
   ],
   "source": [
    "maxdist(C,2)"
   ]
  },
  {
   "cell_type": "markdown",
   "id": "1075c396-d89c-4a22-aeb4-96bd1414d10d",
   "metadata": {},
   "source": [
    "## Perfect codes"
   ]
  },
  {
   "cell_type": "markdown",
   "id": "d14212e9-ccbc-4523-870f-b1e259db2ab7",
   "metadata": {},
   "source": [
    "### Checking whether a code is perfect"
   ]
  },
  {
   "cell_type": "code",
   "execution_count": 147,
   "id": "d35e2497-45ae-4261-adb3-d23de2ae7c13",
   "metadata": {},
   "outputs": [],
   "source": [
    "def is_perfect(C,q):\n",
    "    t=maxdist(C,q)\n",
    "    d=mindist(C,q)\n",
    "    if d==2*t+1:\n",
    "        return True\n",
    "    else:\n",
    "        return False"
   ]
  },
  {
   "cell_type": "code",
   "execution_count": 148,
   "id": "bad24330-a623-400f-90b4-b1d4c7519f96",
   "metadata": {},
   "outputs": [
    {
     "data": {
      "text/plain": [
       "True"
      ]
     },
     "execution_count": 148,
     "metadata": {},
     "output_type": "execute_result"
    }
   ],
   "source": [
    "is_perfect(C,2)"
   ]
  },
  {
   "cell_type": "code",
   "execution_count": 149,
   "id": "0bc0b49a-a1f4-46fd-a3e1-b42253406f45",
   "metadata": {},
   "outputs": [
    {
     "data": {
      "text/plain": [
       "False"
      ]
     },
     "execution_count": 149,
     "metadata": {},
     "output_type": "execute_result"
    }
   ],
   "source": [
    "is_perfect(image([[1, 0, 0, 0, 0, 1, 1,1],\n",
    "           [0, 1, 0, 0, 1, 0, 1,1],\n",
    "           [0, 0, 1, 0, 1, 1, 0,1],\n",
    "           [0, 0, 0, 1, 1, 1, 1,0]],2),2)"
   ]
  },
  {
   "cell_type": "code",
   "execution_count": 150,
   "id": "eb8d3dbc-8067-47f2-81d4-8bf7deb66827",
   "metadata": {},
   "outputs": [],
   "source": [
    "G=[     [1, 0, 0, 0, 0, 1, 1],\n",
    "        [0, 1, 0, 0, 1, 0, 1],\n",
    "        [0, 0, 1, 0, 1, 1, 0],\n",
    "        [0, 0, 0, 1, 1, 1, 1]]\n",
    "C=image(G,2)"
   ]
  },
  {
   "cell_type": "code",
   "execution_count": 151,
   "id": "469d8972-5467-430e-9fae-5953d5a44073",
   "metadata": {},
   "outputs": [
    {
     "data": {
      "text/plain": [
       "True"
      ]
     },
     "execution_count": 151,
     "metadata": {},
     "output_type": "execute_result"
    }
   ],
   "source": [
    "is_perfect(C,2)"
   ]
  },
  {
   "cell_type": "code",
   "execution_count": 152,
   "id": "7e7ab2b8-4c4b-448c-bef6-37f59628ba1c",
   "metadata": {},
   "outputs": [
    {
     "data": {
      "text/plain": [
       "False"
      ]
     },
     "execution_count": 152,
     "metadata": {},
     "output_type": "execute_result"
    }
   ],
   "source": [
    "G=[     [1, 0,0,1],\n",
    "        [0, 1, 1,1]]\n",
    "        \n",
    "C=image(G,2)\n",
    "is_perfect(C,2)"
   ]
  },
  {
   "cell_type": "code",
   "execution_count": 153,
   "id": "202c4b0e-9b3f-4e99-8ea2-f7619ff96a56",
   "metadata": {},
   "outputs": [
    {
     "data": {
      "text/plain": [
       "True"
      ]
     },
     "execution_count": 153,
     "metadata": {},
     "output_type": "execute_result"
    }
   ],
   "source": [
    "H=[     [1, 1, 0],\n",
    "        [1, 0, 1],\n",
    "        [0, 1, 1],\n",
    "        [1, 1, 1],\n",
    "        [1, 0, 0],\n",
    "        [0, 1, 0],\n",
    "  [0, 0, 1]]\n",
    "C=kernel(H,2)\n",
    "is_perfect(C,2)"
   ]
  },
  {
   "cell_type": "markdown",
   "id": "80de4093-9f68-435a-827e-7aae4c88cb62",
   "metadata": {},
   "source": [
    "### Computing all generating matrices "
   ]
  },
  {
   "cell_type": "code",
   "execution_count": 154,
   "id": "59e1dceb-c4dc-43e8-b393-ee24ae5b1f5b",
   "metadata": {},
   "outputs": [],
   "source": [
    "def genmatrices(q,k,n):\n",
    "    A=F(q,k)\n",
    "    S=itertools.product(A, repeat=n-k) #all possible subsets of A of length n-k. possibly repeated\n",
    "    GENS=[]\n",
    "    for V in S:\n",
    "        G= [[0]*i+[1]+[0]*(k-i-1) for i in range(k)] #generates identity vectors of length k\n",
    "        for v in V:\n",
    "            G=np.column_stack((G, np.array(v)))\n",
    "        GENS.append(G)\n",
    "    return GENS"
   ]
  },
  {
   "cell_type": "code",
   "execution_count": 155,
   "id": "a9dcb22b-791b-46ef-b5d6-c4500d815eea",
   "metadata": {},
   "outputs": [
    {
     "data": {
      "text/plain": [
       "[array([[1, 0, 0, 1, 1],\n",
       "        [0, 1, 0, 0, 0],\n",
       "        [0, 0, 1, 0, 0]]),\n",
       " array([[1, 0, 0, 1, 0],\n",
       "        [0, 1, 0, 0, 1],\n",
       "        [0, 0, 1, 0, 0]]),\n",
       " array([[1, 0, 0, 1, 0],\n",
       "        [0, 1, 0, 0, 0],\n",
       "        [0, 0, 1, 0, 1]]),\n",
       " array([[1, 0, 0, 1, 0],\n",
       "        [0, 1, 0, 0, 0],\n",
       "        [0, 0, 1, 0, 0]]),\n",
       " array([[1, 0, 0, 1, 0],\n",
       "        [0, 1, 0, 0, 1],\n",
       "        [0, 0, 1, 0, 1]]),\n",
       " array([[1, 0, 0, 1, 1],\n",
       "        [0, 1, 0, 0, 0],\n",
       "        [0, 0, 1, 0, 1]]),\n",
       " array([[1, 0, 0, 1, 1],\n",
       "        [0, 1, 0, 0, 1],\n",
       "        [0, 0, 1, 0, 0]]),\n",
       " array([[1, 0, 0, 1, 1],\n",
       "        [0, 1, 0, 0, 1],\n",
       "        [0, 0, 1, 0, 1]]),\n",
       " array([[1, 0, 0, 0, 1],\n",
       "        [0, 1, 0, 1, 0],\n",
       "        [0, 0, 1, 0, 0]]),\n",
       " array([[1, 0, 0, 0, 0],\n",
       "        [0, 1, 0, 1, 1],\n",
       "        [0, 0, 1, 0, 0]]),\n",
       " array([[1, 0, 0, 0, 0],\n",
       "        [0, 1, 0, 1, 0],\n",
       "        [0, 0, 1, 0, 1]]),\n",
       " array([[1, 0, 0, 0, 0],\n",
       "        [0, 1, 0, 1, 0],\n",
       "        [0, 0, 1, 0, 0]]),\n",
       " array([[1, 0, 0, 0, 0],\n",
       "        [0, 1, 0, 1, 1],\n",
       "        [0, 0, 1, 0, 1]]),\n",
       " array([[1, 0, 0, 0, 1],\n",
       "        [0, 1, 0, 1, 0],\n",
       "        [0, 0, 1, 0, 1]]),\n",
       " array([[1, 0, 0, 0, 1],\n",
       "        [0, 1, 0, 1, 1],\n",
       "        [0, 0, 1, 0, 0]]),\n",
       " array([[1, 0, 0, 0, 1],\n",
       "        [0, 1, 0, 1, 1],\n",
       "        [0, 0, 1, 0, 1]]),\n",
       " array([[1, 0, 0, 0, 1],\n",
       "        [0, 1, 0, 0, 0],\n",
       "        [0, 0, 1, 1, 0]]),\n",
       " array([[1, 0, 0, 0, 0],\n",
       "        [0, 1, 0, 0, 1],\n",
       "        [0, 0, 1, 1, 0]]),\n",
       " array([[1, 0, 0, 0, 0],\n",
       "        [0, 1, 0, 0, 0],\n",
       "        [0, 0, 1, 1, 1]]),\n",
       " array([[1, 0, 0, 0, 0],\n",
       "        [0, 1, 0, 0, 0],\n",
       "        [0, 0, 1, 1, 0]]),\n",
       " array([[1, 0, 0, 0, 0],\n",
       "        [0, 1, 0, 0, 1],\n",
       "        [0, 0, 1, 1, 1]]),\n",
       " array([[1, 0, 0, 0, 1],\n",
       "        [0, 1, 0, 0, 0],\n",
       "        [0, 0, 1, 1, 1]]),\n",
       " array([[1, 0, 0, 0, 1],\n",
       "        [0, 1, 0, 0, 1],\n",
       "        [0, 0, 1, 1, 0]]),\n",
       " array([[1, 0, 0, 0, 1],\n",
       "        [0, 1, 0, 0, 1],\n",
       "        [0, 0, 1, 1, 1]]),\n",
       " array([[1, 0, 0, 0, 1],\n",
       "        [0, 1, 0, 0, 0],\n",
       "        [0, 0, 1, 0, 0]]),\n",
       " array([[1, 0, 0, 0, 0],\n",
       "        [0, 1, 0, 0, 1],\n",
       "        [0, 0, 1, 0, 0]]),\n",
       " array([[1, 0, 0, 0, 0],\n",
       "        [0, 1, 0, 0, 0],\n",
       "        [0, 0, 1, 0, 1]]),\n",
       " array([[1, 0, 0, 0, 0],\n",
       "        [0, 1, 0, 0, 0],\n",
       "        [0, 0, 1, 0, 0]]),\n",
       " array([[1, 0, 0, 0, 0],\n",
       "        [0, 1, 0, 0, 1],\n",
       "        [0, 0, 1, 0, 1]]),\n",
       " array([[1, 0, 0, 0, 1],\n",
       "        [0, 1, 0, 0, 0],\n",
       "        [0, 0, 1, 0, 1]]),\n",
       " array([[1, 0, 0, 0, 1],\n",
       "        [0, 1, 0, 0, 1],\n",
       "        [0, 0, 1, 0, 0]]),\n",
       " array([[1, 0, 0, 0, 1],\n",
       "        [0, 1, 0, 0, 1],\n",
       "        [0, 0, 1, 0, 1]]),\n",
       " array([[1, 0, 0, 0, 1],\n",
       "        [0, 1, 0, 1, 0],\n",
       "        [0, 0, 1, 1, 0]]),\n",
       " array([[1, 0, 0, 0, 0],\n",
       "        [0, 1, 0, 1, 1],\n",
       "        [0, 0, 1, 1, 0]]),\n",
       " array([[1, 0, 0, 0, 0],\n",
       "        [0, 1, 0, 1, 0],\n",
       "        [0, 0, 1, 1, 1]]),\n",
       " array([[1, 0, 0, 0, 0],\n",
       "        [0, 1, 0, 1, 0],\n",
       "        [0, 0, 1, 1, 0]]),\n",
       " array([[1, 0, 0, 0, 0],\n",
       "        [0, 1, 0, 1, 1],\n",
       "        [0, 0, 1, 1, 1]]),\n",
       " array([[1, 0, 0, 0, 1],\n",
       "        [0, 1, 0, 1, 0],\n",
       "        [0, 0, 1, 1, 1]]),\n",
       " array([[1, 0, 0, 0, 1],\n",
       "        [0, 1, 0, 1, 1],\n",
       "        [0, 0, 1, 1, 0]]),\n",
       " array([[1, 0, 0, 0, 1],\n",
       "        [0, 1, 0, 1, 1],\n",
       "        [0, 0, 1, 1, 1]]),\n",
       " array([[1, 0, 0, 1, 1],\n",
       "        [0, 1, 0, 0, 0],\n",
       "        [0, 0, 1, 1, 0]]),\n",
       " array([[1, 0, 0, 1, 0],\n",
       "        [0, 1, 0, 0, 1],\n",
       "        [0, 0, 1, 1, 0]]),\n",
       " array([[1, 0, 0, 1, 0],\n",
       "        [0, 1, 0, 0, 0],\n",
       "        [0, 0, 1, 1, 1]]),\n",
       " array([[1, 0, 0, 1, 0],\n",
       "        [0, 1, 0, 0, 0],\n",
       "        [0, 0, 1, 1, 0]]),\n",
       " array([[1, 0, 0, 1, 0],\n",
       "        [0, 1, 0, 0, 1],\n",
       "        [0, 0, 1, 1, 1]]),\n",
       " array([[1, 0, 0, 1, 1],\n",
       "        [0, 1, 0, 0, 0],\n",
       "        [0, 0, 1, 1, 1]]),\n",
       " array([[1, 0, 0, 1, 1],\n",
       "        [0, 1, 0, 0, 1],\n",
       "        [0, 0, 1, 1, 0]]),\n",
       " array([[1, 0, 0, 1, 1],\n",
       "        [0, 1, 0, 0, 1],\n",
       "        [0, 0, 1, 1, 1]]),\n",
       " array([[1, 0, 0, 1, 1],\n",
       "        [0, 1, 0, 1, 0],\n",
       "        [0, 0, 1, 0, 0]]),\n",
       " array([[1, 0, 0, 1, 0],\n",
       "        [0, 1, 0, 1, 1],\n",
       "        [0, 0, 1, 0, 0]]),\n",
       " array([[1, 0, 0, 1, 0],\n",
       "        [0, 1, 0, 1, 0],\n",
       "        [0, 0, 1, 0, 1]]),\n",
       " array([[1, 0, 0, 1, 0],\n",
       "        [0, 1, 0, 1, 0],\n",
       "        [0, 0, 1, 0, 0]]),\n",
       " array([[1, 0, 0, 1, 0],\n",
       "        [0, 1, 0, 1, 1],\n",
       "        [0, 0, 1, 0, 1]]),\n",
       " array([[1, 0, 0, 1, 1],\n",
       "        [0, 1, 0, 1, 0],\n",
       "        [0, 0, 1, 0, 1]]),\n",
       " array([[1, 0, 0, 1, 1],\n",
       "        [0, 1, 0, 1, 1],\n",
       "        [0, 0, 1, 0, 0]]),\n",
       " array([[1, 0, 0, 1, 1],\n",
       "        [0, 1, 0, 1, 1],\n",
       "        [0, 0, 1, 0, 1]]),\n",
       " array([[1, 0, 0, 1, 1],\n",
       "        [0, 1, 0, 1, 0],\n",
       "        [0, 0, 1, 1, 0]]),\n",
       " array([[1, 0, 0, 1, 0],\n",
       "        [0, 1, 0, 1, 1],\n",
       "        [0, 0, 1, 1, 0]]),\n",
       " array([[1, 0, 0, 1, 0],\n",
       "        [0, 1, 0, 1, 0],\n",
       "        [0, 0, 1, 1, 1]]),\n",
       " array([[1, 0, 0, 1, 0],\n",
       "        [0, 1, 0, 1, 0],\n",
       "        [0, 0, 1, 1, 0]]),\n",
       " array([[1, 0, 0, 1, 0],\n",
       "        [0, 1, 0, 1, 1],\n",
       "        [0, 0, 1, 1, 1]]),\n",
       " array([[1, 0, 0, 1, 1],\n",
       "        [0, 1, 0, 1, 0],\n",
       "        [0, 0, 1, 1, 1]]),\n",
       " array([[1, 0, 0, 1, 1],\n",
       "        [0, 1, 0, 1, 1],\n",
       "        [0, 0, 1, 1, 0]]),\n",
       " array([[1, 0, 0, 1, 1],\n",
       "        [0, 1, 0, 1, 1],\n",
       "        [0, 0, 1, 1, 1]])]"
      ]
     },
     "execution_count": 155,
     "metadata": {},
     "output_type": "execute_result"
    }
   ],
   "source": [
    "genmatrices(2,3,5)"
   ]
  },
  {
   "cell_type": "markdown",
   "id": "01969457-d205-4893-9f0d-2eccb665c263",
   "metadata": {},
   "source": [
    "### Computing all matrices which generate perfect codes"
   ]
  },
  {
   "cell_type": "code",
   "execution_count": 156,
   "id": "74deeb86-3e98-4978-846f-2bd7417e7f6d",
   "metadata": {},
   "outputs": [],
   "source": [
    "def perfect(q,k,n):\n",
    "    P=[]\n",
    "    for G in genmatrices(q,k,n):\n",
    "        if is_perfect(image(G,q),q):\n",
    "            P.append(G)\n",
    "    return P"
   ]
  },
  {
   "cell_type": "code",
   "execution_count": 157,
   "id": "bc48284c-967a-4e88-a72f-24cc956d69cd",
   "metadata": {
    "scrolled": true
   },
   "outputs": [
    {
     "data": {
      "text/plain": [
       "[array([[1, 0, 0, 0, 0, 1, 1],\n",
       "        [0, 1, 0, 0, 1, 0, 1],\n",
       "        [0, 0, 1, 0, 1, 1, 0],\n",
       "        [0, 0, 0, 1, 1, 1, 1]]),\n",
       " array([[1, 0, 0, 0, 0, 1, 1],\n",
       "        [0, 1, 0, 0, 1, 0, 1],\n",
       "        [0, 0, 1, 0, 1, 1, 1],\n",
       "        [0, 0, 0, 1, 1, 1, 0]]),\n",
       " array([[1, 0, 0, 0, 0, 1, 1],\n",
       "        [0, 1, 0, 0, 1, 1, 0],\n",
       "        [0, 0, 1, 0, 1, 0, 1],\n",
       "        [0, 0, 0, 1, 1, 1, 1]]),\n",
       " array([[1, 0, 0, 0, 0, 1, 1],\n",
       "        [0, 1, 0, 0, 1, 1, 1],\n",
       "        [0, 0, 1, 0, 1, 0, 1],\n",
       "        [0, 0, 0, 1, 1, 1, 0]]),\n",
       " array([[1, 0, 0, 0, 0, 1, 1],\n",
       "        [0, 1, 0, 0, 1, 1, 0],\n",
       "        [0, 0, 1, 0, 1, 1, 1],\n",
       "        [0, 0, 0, 1, 1, 0, 1]]),\n",
       " array([[1, 0, 0, 0, 0, 1, 1],\n",
       "        [0, 1, 0, 0, 1, 1, 1],\n",
       "        [0, 0, 1, 0, 1, 1, 0],\n",
       "        [0, 0, 0, 1, 1, 0, 1]]),\n",
       " array([[1, 0, 0, 0, 1, 0, 1],\n",
       "        [0, 1, 0, 0, 0, 1, 1],\n",
       "        [0, 0, 1, 0, 1, 1, 0],\n",
       "        [0, 0, 0, 1, 1, 1, 1]]),\n",
       " array([[1, 0, 0, 0, 1, 0, 1],\n",
       "        [0, 1, 0, 0, 0, 1, 1],\n",
       "        [0, 0, 1, 0, 1, 1, 1],\n",
       "        [0, 0, 0, 1, 1, 1, 0]]),\n",
       " array([[1, 0, 0, 0, 1, 1, 0],\n",
       "        [0, 1, 0, 0, 0, 1, 1],\n",
       "        [0, 0, 1, 0, 1, 0, 1],\n",
       "        [0, 0, 0, 1, 1, 1, 1]]),\n",
       " array([[1, 0, 0, 0, 1, 1, 1],\n",
       "        [0, 1, 0, 0, 0, 1, 1],\n",
       "        [0, 0, 1, 0, 1, 0, 1],\n",
       "        [0, 0, 0, 1, 1, 1, 0]]),\n",
       " array([[1, 0, 0, 0, 1, 1, 0],\n",
       "        [0, 1, 0, 0, 0, 1, 1],\n",
       "        [0, 0, 1, 0, 1, 1, 1],\n",
       "        [0, 0, 0, 1, 1, 0, 1]]),\n",
       " array([[1, 0, 0, 0, 1, 1, 1],\n",
       "        [0, 1, 0, 0, 0, 1, 1],\n",
       "        [0, 0, 1, 0, 1, 1, 0],\n",
       "        [0, 0, 0, 1, 1, 0, 1]]),\n",
       " array([[1, 0, 0, 0, 1, 0, 1],\n",
       "        [0, 1, 0, 0, 1, 1, 0],\n",
       "        [0, 0, 1, 0, 0, 1, 1],\n",
       "        [0, 0, 0, 1, 1, 1, 1]]),\n",
       " array([[1, 0, 0, 0, 1, 0, 1],\n",
       "        [0, 1, 0, 0, 1, 1, 1],\n",
       "        [0, 0, 1, 0, 0, 1, 1],\n",
       "        [0, 0, 0, 1, 1, 1, 0]]),\n",
       " array([[1, 0, 0, 0, 1, 1, 0],\n",
       "        [0, 1, 0, 0, 1, 0, 1],\n",
       "        [0, 0, 1, 0, 0, 1, 1],\n",
       "        [0, 0, 0, 1, 1, 1, 1]]),\n",
       " array([[1, 0, 0, 0, 1, 1, 1],\n",
       "        [0, 1, 0, 0, 1, 0, 1],\n",
       "        [0, 0, 1, 0, 0, 1, 1],\n",
       "        [0, 0, 0, 1, 1, 1, 0]]),\n",
       " array([[1, 0, 0, 0, 1, 1, 0],\n",
       "        [0, 1, 0, 0, 1, 1, 1],\n",
       "        [0, 0, 1, 0, 0, 1, 1],\n",
       "        [0, 0, 0, 1, 1, 0, 1]]),\n",
       " array([[1, 0, 0, 0, 1, 1, 1],\n",
       "        [0, 1, 0, 0, 1, 1, 0],\n",
       "        [0, 0, 1, 0, 0, 1, 1],\n",
       "        [0, 0, 0, 1, 1, 0, 1]]),\n",
       " array([[1, 0, 0, 0, 1, 0, 1],\n",
       "        [0, 1, 0, 0, 1, 1, 0],\n",
       "        [0, 0, 1, 0, 1, 1, 1],\n",
       "        [0, 0, 0, 1, 0, 1, 1]]),\n",
       " array([[1, 0, 0, 0, 1, 0, 1],\n",
       "        [0, 1, 0, 0, 1, 1, 1],\n",
       "        [0, 0, 1, 0, 1, 1, 0],\n",
       "        [0, 0, 0, 1, 0, 1, 1]]),\n",
       " array([[1, 0, 0, 0, 1, 1, 0],\n",
       "        [0, 1, 0, 0, 1, 0, 1],\n",
       "        [0, 0, 1, 0, 1, 1, 1],\n",
       "        [0, 0, 0, 1, 0, 1, 1]]),\n",
       " array([[1, 0, 0, 0, 1, 1, 1],\n",
       "        [0, 1, 0, 0, 1, 0, 1],\n",
       "        [0, 0, 1, 0, 1, 1, 0],\n",
       "        [0, 0, 0, 1, 0, 1, 1]]),\n",
       " array([[1, 0, 0, 0, 1, 1, 0],\n",
       "        [0, 1, 0, 0, 1, 1, 1],\n",
       "        [0, 0, 1, 0, 1, 0, 1],\n",
       "        [0, 0, 0, 1, 0, 1, 1]]),\n",
       " array([[1, 0, 0, 0, 1, 1, 1],\n",
       "        [0, 1, 0, 0, 1, 1, 0],\n",
       "        [0, 0, 1, 0, 1, 0, 1],\n",
       "        [0, 0, 0, 1, 0, 1, 1]])]"
      ]
     },
     "metadata": {},
     "output_type": "display_data"
    }
   ],
   "source": [
    "P=perfect(2,4,7)\n",
    "display(P)"
   ]
  },
  {
   "cell_type": "markdown",
   "id": "fbbba732-20bb-418d-a6c7-7a92e7803b91",
   "metadata": {},
   "source": [
    "The last three columns of each matrix have three 1s \n",
    "and one 0 and are pairwise distinc. "
   ]
  },
  {
   "cell_type": "code",
   "execution_count": 158,
   "id": "3aa24609-29dc-4dd3-88c2-b1d94cc08efe",
   "metadata": {},
   "outputs": [
    {
     "data": {
      "text/plain": [
       "[array([[1, 0, 1, 1],\n",
       "        [0, 1, 1, 2]]),\n",
       " array([[1, 0, 1, 2],\n",
       "        [0, 1, 1, 1]]),\n",
       " array([[1, 0, 1, 1],\n",
       "        [0, 1, 2, 1]]),\n",
       " array([[1, 0, 1, 2],\n",
       "        [0, 1, 2, 2]]),\n",
       " array([[1, 0, 2, 1],\n",
       "        [0, 1, 1, 1]]),\n",
       " array([[1, 0, 2, 2],\n",
       "        [0, 1, 1, 2]]),\n",
       " array([[1, 0, 2, 1],\n",
       "        [0, 1, 2, 2]]),\n",
       " array([[1, 0, 2, 2],\n",
       "        [0, 1, 2, 1]])]"
      ]
     },
     "execution_count": 158,
     "metadata": {},
     "output_type": "execute_result"
    }
   ],
   "source": [
    "perfect(3,2,4)"
   ]
  },
  {
   "cell_type": "markdown",
   "id": "bfcd0def-1101-4fa1-95a7-d6622ab09e6f",
   "metadata": {},
   "source": [
    "Up to scalar multiplication and reordering the rows of V where G=(id|V) we only have one matrix. "
   ]
  },
  {
   "cell_type": "code",
   "execution_count": 159,
   "id": "65ac5d69-f73e-47db-a155-ed2abd685659",
   "metadata": {},
   "outputs": [
    {
     "data": {
      "text/plain": [
       "[]"
      ]
     },
     "metadata": {},
     "output_type": "display_data"
    },
    {
     "data": {
      "text/plain": [
       "[]"
      ]
     },
     "metadata": {},
     "output_type": "display_data"
    },
    {
     "data": {
      "text/plain": [
       "[]"
      ]
     },
     "metadata": {},
     "output_type": "display_data"
    },
    {
     "data": {
      "text/plain": [
       "[]"
      ]
     },
     "metadata": {},
     "output_type": "display_data"
    },
    {
     "data": {
      "text/plain": [
       "[]"
      ]
     },
     "metadata": {},
     "output_type": "display_data"
    }
   ],
   "source": [
    "for n in range(4,9):\n",
    "    display(perfect(2,3,n))"
   ]
  },
  {
   "cell_type": "code",
   "execution_count": 160,
   "id": "3f03060d-61f2-48c3-833b-346601e2391c",
   "metadata": {},
   "outputs": [
    {
     "data": {
      "text/plain": [
       "[]"
      ]
     },
     "metadata": {},
     "output_type": "display_data"
    },
    {
     "data": {
      "text/plain": [
       "[]"
      ]
     },
     "metadata": {},
     "output_type": "display_data"
    }
   ],
   "source": [
    "for n in range(5,7):\n",
    "    display(perfect(2,4,n))"
   ]
  },
  {
   "cell_type": "code",
   "execution_count": 161,
   "id": "8e481a6b-6832-4abf-8dde-80868f38a636",
   "metadata": {},
   "outputs": [
    {
     "data": {
      "text/plain": [
       "[]"
      ]
     },
     "metadata": {},
     "output_type": "display_data"
    },
    {
     "data": {
      "text/plain": [
       "[]"
      ]
     },
     "metadata": {},
     "output_type": "display_data"
    }
   ],
   "source": [
    "for n in range(6,8):\n",
    "    display(perfect(2,5,n))"
   ]
  },
  {
   "cell_type": "code",
   "execution_count": 162,
   "id": "113f7357-215a-4bf7-a6c4-b8c79cd297af",
   "metadata": {},
   "outputs": [
    {
     "data": {
      "text/plain": [
       "[]"
      ]
     },
     "metadata": {},
     "output_type": "display_data"
    },
    {
     "data": {
      "text/plain": [
       "[]"
      ]
     },
     "metadata": {},
     "output_type": "display_data"
    },
    {
     "data": {
      "text/plain": [
       "[]"
      ]
     },
     "metadata": {},
     "output_type": "display_data"
    }
   ],
   "source": [
    "for k in range(1,4):\n",
    "    display(perfect(2,k,4))"
   ]
  },
  {
   "cell_type": "markdown",
   "id": "229bfe25-66c9-4fc6-8a31-c1dc8ec1cb81",
   "metadata": {},
   "source": [
    "### Generating one perfect matrix given $q,k$"
   ]
  },
  {
   "cell_type": "code",
   "execution_count": 163,
   "id": "9201b967-c056-4d2a-b220-fd7f531f763b",
   "metadata": {},
   "outputs": [],
   "source": [
    "def perfectone(q,k):\n",
    "    for n in range(k+1,k+5):\n",
    "        for G in genmatrices(q,k,n):\n",
    "            if is_perfect(image(G,q),q):\n",
    "                return G"
   ]
  },
  {
   "cell_type": "code",
   "execution_count": 164,
   "id": "a9831e7a-346e-4c0b-8590-9fb41a7adb4f",
   "metadata": {},
   "outputs": [
    {
     "data": {
      "text/plain": [
       "array([[1, 0, 0, 0, 0, 1, 1],\n",
       "       [0, 1, 0, 0, 1, 0, 1],\n",
       "       [0, 0, 1, 0, 1, 1, 0],\n",
       "       [0, 0, 0, 1, 1, 1, 1]])"
      ]
     },
     "execution_count": 164,
     "metadata": {},
     "output_type": "execute_result"
    }
   ],
   "source": [
    "perfectone(2,4)"
   ]
  },
  {
   "cell_type": "markdown",
   "id": "fc0ec7b3-c4dd-4f92-b905-046c32b925fa",
   "metadata": {},
   "source": [
    "## Encoding and decoding"
   ]
  },
  {
   "cell_type": "markdown",
   "id": "a5b241c5-75b8-48ca-aa4b-0d12f217d9b2",
   "metadata": {},
   "source": [
    "### Introducing random errors "
   ]
  },
  {
   "cell_type": "code",
   "execution_count": 165,
   "id": "e3eee97e-d791-406b-afb1-77ae46193281",
   "metadata": {},
   "outputs": [],
   "source": [
    "import random\n",
    "def error(w):\n",
    "    q=max(w)+1\n",
    "    n=len(w)\n",
    "    # Choose a random index i\n",
    "    i= random.randint(0,n-1)\n",
    "    # Choose a random number a\n",
    "    a= random.randint(0,q-1)\n",
    "    w=list(w)\n",
    "    w[i]=a #introducing an error in position i\n",
    "    return w"
   ]
  },
  {
   "cell_type": "code",
   "execution_count": 166,
   "id": "392eefe3-8b2e-46c3-b94d-f59490a6c582",
   "metadata": {},
   "outputs": [
    {
     "data": {
      "text/plain": [
       "[0, 1, 0, 1, 0]"
      ]
     },
     "execution_count": 166,
     "metadata": {},
     "output_type": "execute_result"
    }
   ],
   "source": [
    "error([0,1,0,1,0])"
   ]
  },
  {
   "cell_type": "markdown",
   "id": "28fe5e7b-8747-4807-80e1-a4e638f1b6e3",
   "metadata": {},
   "source": [
    "### Correcting a word given the code"
   ]
  },
  {
   "cell_type": "code",
   "execution_count": 167,
   "id": "e5810061-88c5-4219-a3d2-82aede570f26",
   "metadata": {},
   "outputs": [],
   "source": [
    "def correct(C,w):\n",
    "    q=max(w)+1\n",
    "    \n",
    "    m=min([hdist(w,v,q) for v in C])\n",
    "    for v in C:\n",
    "        if hdist(w,v,q)==m:\n",
    "            return v"
   ]
  },
  {
   "cell_type": "code",
   "execution_count": 168,
   "id": "7610d47b-628d-4566-b62e-757aa81874fb",
   "metadata": {},
   "outputs": [
    {
     "data": {
      "text/plain": [
       "[0, 1, 0, 1, 0, 1, 0]"
      ]
     },
     "execution_count": 168,
     "metadata": {},
     "output_type": "execute_result"
    }
   ],
   "source": [
    "correct(image([[1, 0, 0, 0, 0, 1, 1],\n",
    "        [0, 1, 0, 0, 1, 0, 1],\n",
    "        [0, 0, 1, 0, 1, 1, 0],\n",
    "        [0, 0, 0, 1, 1, 1, 1]],2),[0, 0, 0, 1, 0, 1, 0])"
   ]
  },
  {
   "cell_type": "markdown",
   "id": "ed194aeb-859a-4351-9516-9f496e044720",
   "metadata": {},
   "source": [
    "### Encoding"
   ]
  },
  {
   "cell_type": "code",
   "execution_count": 169,
   "id": "419dd015-a4c3-4f11-b265-7a9e0814a319",
   "metadata": {},
   "outputs": [],
   "source": [
    "def encode(w):\n",
    "    q=max(w)+1\n",
    "    k=len(w)\n",
    "    G=perfectone(q,k) \n",
    "    cw=np.dot(w, G) % q\n",
    "    return cw"
   ]
  },
  {
   "cell_type": "code",
   "execution_count": 170,
   "id": "349a5ee4-37c9-4f1c-a937-db2b1c696f2e",
   "metadata": {},
   "outputs": [
    {
     "data": {
      "text/plain": [
       "array([0, 1, 0, 1, 0, 1, 0])"
      ]
     },
     "execution_count": 170,
     "metadata": {},
     "output_type": "execute_result"
    }
   ],
   "source": [
    "encode([0,1,0,1])"
   ]
  },
  {
   "cell_type": "code",
   "execution_count": 171,
   "id": "bf8bdefe-d690-4555-91ea-f1316798559e",
   "metadata": {},
   "outputs": [
    {
     "data": {
      "text/plain": [
       "[0, 1, 1, 1, 0, 1, 0]"
      ]
     },
     "execution_count": 171,
     "metadata": {},
     "output_type": "execute_result"
    }
   ],
   "source": [
    "error(encode([0,1,0,1]))"
   ]
  },
  {
   "cell_type": "code",
   "execution_count": 172,
   "id": "e2277baa-18b8-4408-9dd2-a878517dd9ad",
   "metadata": {},
   "outputs": [
    {
     "data": {
      "text/plain": [
       "[0, 1, 0, 1, 1, 0, 0]"
      ]
     },
     "execution_count": 172,
     "metadata": {},
     "output_type": "execute_result"
    }
   ],
   "source": [
    "error(encode([0,1,1,1]))"
   ]
  },
  {
   "cell_type": "markdown",
   "id": "92fff253-8dde-4566-b471-867902feea81",
   "metadata": {},
   "source": [
    "### Breaking up texts into words"
   ]
  },
  {
   "cell_type": "code",
   "execution_count": 173,
   "id": "a189482b-1b8c-482c-8058-f9ff87483178",
   "metadata": {},
   "outputs": [],
   "source": [
    "def breaking(text,k):\n",
    "    brokentext=[text[i:i+k] for i in range(0,len(text),k)]\n",
    "    return brokentext"
   ]
  },
  {
   "cell_type": "code",
   "execution_count": 174,
   "id": "368c87fb-09b3-40fc-87a3-d61822629fb4",
   "metadata": {},
   "outputs": [
    {
     "data": {
      "text/plain": [
       "[[1, 2], [2, 4], [4, 2], [1, 2]]"
      ]
     },
     "execution_count": 174,
     "metadata": {},
     "output_type": "execute_result"
    }
   ],
   "source": [
    "breaking([1,2,2,4,4,2,1,2],2)"
   ]
  },
  {
   "cell_type": "markdown",
   "id": "2ca8b60f-dcbd-4c86-80a2-59b3873b84a9",
   "metadata": {},
   "source": [
    "### Decoding"
   ]
  },
  {
   "cell_type": "code",
   "execution_count": 175,
   "id": "83783384-d45c-4f94-9044-78ad8273f48f",
   "metadata": {},
   "outputs": [],
   "source": [
    "def decode(cw,k):\n",
    "    w=cw[:k]\n",
    "    return w"
   ]
  },
  {
   "cell_type": "code",
   "execution_count": 176,
   "id": "ec633362-d97d-448f-9429-a298ac0b0812",
   "metadata": {},
   "outputs": [
    {
     "data": {
      "text/plain": [
       "[0, 1, 0, 1]"
      ]
     },
     "execution_count": 176,
     "metadata": {},
     "output_type": "execute_result"
    }
   ],
   "source": [
    "decode([0,1,0,1,0,1,0],4)"
   ]
  },
  {
   "cell_type": "code",
   "execution_count": 177,
   "id": "094e047a-7ba8-4379-8344-70e09868b1e0",
   "metadata": {},
   "outputs": [
    {
     "data": {
      "text/plain": [
       "[0, 1, 0, 1]"
      ]
     },
     "execution_count": 177,
     "metadata": {},
     "output_type": "execute_result"
    }
   ],
   "source": [
    "decode(correct(image(perfectone(2,4),2),[0,1,0,1,0,0,0]),4)"
   ]
  },
  {
   "cell_type": "markdown",
   "id": "167e6068-9823-4ebb-ab1e-e60eea2faf8c",
   "metadata": {},
   "source": [
    "### All together"
   ]
  },
  {
   "cell_type": "code",
   "execution_count": 178,
   "id": "8d8dd068-545a-4101-879f-d1d1218952b0",
   "metadata": {},
   "outputs": [],
   "source": [
    "def encodeco(k, text): #a complicated identity function\n",
    "    words=breaking(text,k) #braking text into words of length k\n",
    "    q = max(max(w) for w in words)+1\n",
    "    G = perfectone(q,k) #finding a matrix generating a perfect code\n",
    "    received_words=[]\n",
    "    for w in words:\n",
    "        cw = np.dot(w,G) % q  # encoding each word\n",
    "        error(cw)  #introducing 1 error to each word. should compute t and introduce that many errors\n",
    "        correct(image(G,q),cw) #correcting the errors\n",
    "        dw=decode(cw,k) #removing redundancy\n",
    "        received_words.append(dw)\n",
    "    decodedtext=[a for w in received_words for a in w] #putting words back together\n",
    "    print(decodedtext)"
   ]
  },
  {
   "cell_type": "code",
   "execution_count": 179,
   "id": "bb6cf308-d3e8-496e-a246-90b0a6fb9185",
   "metadata": {},
   "outputs": [
    {
     "name": "stdout",
     "output_type": "stream",
     "text": [
      "[0, 1, 0, 1, 1, 1, 1, 1]\n"
     ]
    }
   ],
   "source": [
    "encodeco(4,[0,1,0,1,1,1,1,1]) "
   ]
  }
 ],
 "metadata": {
  "kernelspec": {
   "display_name": "Python 3 (ipykernel)",
   "language": "python",
   "name": "python3"
  },
  "language_info": {
   "codemirror_mode": {
    "name": "ipython",
    "version": 3
   },
   "file_extension": ".py",
   "mimetype": "text/x-python",
   "name": "python",
   "nbconvert_exporter": "python",
   "pygments_lexer": "ipython3",
   "version": "3.10.12"
  }
 },
 "nbformat": 4,
 "nbformat_minor": 5
}
